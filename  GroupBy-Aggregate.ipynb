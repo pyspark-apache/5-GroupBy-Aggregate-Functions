{
 "metadata": {
  "language_info": {
   "codemirror_mode": {
    "name": "ipython",
    "version": 3
   },
   "file_extension": ".py",
   "mimetype": "text/x-python",
   "name": "python",
   "nbconvert_exporter": "python",
   "pygments_lexer": "ipython3",
   "version": "3.8.5"
  },
  "orig_nbformat": 2,
  "kernelspec": {
   "name": "python385jvsc74a57bd08074823acd5c3a3d09bb7e213185604cc165448fdf784ed6340a88bbe2d6be2e",
   "display_name": "Python 3.8.5 64-bit ('spark-course': conda)"
  },
  "metadata": {
   "interpreter": {
    "hash": "8074823acd5c3a3d09bb7e213185604cc165448fdf784ed6340a88bbe2d6be2e"
   }
  }
 },
 "nbformat": 4,
 "nbformat_minor": 2,
 "cells": [
  {
   "cell_type": "code",
   "execution_count": 2,
   "metadata": {},
   "outputs": [],
   "source": [
    "from pyspark.sql import SparkSession"
   ]
  },
  {
   "cell_type": "code",
   "execution_count": 3,
   "metadata": {},
   "outputs": [],
   "source": [
    "spark = SparkSession.builder.appName(\"Agg\").getOrCreate()"
   ]
  },
  {
   "cell_type": "code",
   "execution_count": 4,
   "metadata": {},
   "outputs": [
    {
     "output_type": "execute_result",
     "data": {
      "text/plain": [
       "<pyspark.sql.session.SparkSession at 0x7f6370de7220>"
      ],
      "text/html": "\n            <div>\n                <p><b>SparkSession - in-memory</b></p>\n                \n        <div>\n            <p><b>SparkContext</b></p>\n\n            <p><a href=\"http://192.168.0.33:4040\">Spark UI</a></p>\n\n            <dl>\n              <dt>Version</dt>\n                <dd><code>v3.0.1</code></dd>\n              <dt>Master</dt>\n                <dd><code>local[*]</code></dd>\n              <dt>AppName</dt>\n                <dd><code>Agg</code></dd>\n            </dl>\n        </div>\n        \n            </div>\n        "
     },
     "metadata": {},
     "execution_count": 4
    }
   ],
   "source": [
    "spark"
   ]
  },
  {
   "cell_type": "code",
   "execution_count": 7,
   "metadata": {},
   "outputs": [],
   "source": [
    "df_pyspark = spark.read.csv(\"./data/test3.csv\",header=True, inferSchema=True)"
   ]
  },
  {
   "cell_type": "code",
   "execution_count": 8,
   "metadata": {},
   "outputs": [
    {
     "output_type": "stream",
     "name": "stdout",
     "text": [
      "+---------+------------+------+\n|     Name| Departments|salary|\n+---------+------------+------+\n|    Krish|Data Science| 10000|\n|    Krish|         IOT|  5000|\n|   Mahesh|    Big Data|  4000|\n|    Krish|    Big Data|  4000|\n|   Mahesh|Data Science|  3000|\n|Sudhanshu|Data Science| 20000|\n|Sudhanshu|         IOT| 10000|\n|Sudhanshu|    Big Data|  5000|\n|    Sunny|Data Science| 10000|\n|    Sunny|    Big Data|  2000|\n+---------+------------+------+\n\n"
     ]
    }
   ],
   "source": [
    "df_pyspark.show()"
   ]
  },
  {
   "cell_type": "code",
   "execution_count": 9,
   "metadata": {},
   "outputs": [
    {
     "output_type": "stream",
     "name": "stdout",
     "text": [
      "root\n |-- Name: string (nullable = true)\n |-- Departments: string (nullable = true)\n |-- salary: integer (nullable = true)\n\n"
     ]
    }
   ],
   "source": [
    "df_pyspark.printSchema()"
   ]
  },
  {
   "source": [
    "### Groupby\n",
    "\n"
   ],
   "cell_type": "markdown",
   "metadata": {}
  },
  {
   "cell_type": "code",
   "execution_count": 13,
   "metadata": {},
   "outputs": [
    {
     "output_type": "execute_result",
     "data": {
      "text/plain": [
       "DataFrame[Name: string, sum(salary): bigint]"
      ]
     },
     "metadata": {},
     "execution_count": 13
    }
   ],
   "source": [
    "df_pyspark.groupby(\"Name\").sum()"
   ]
  },
  {
   "source": [
    "Look, only sum salary because is int"
   ],
   "cell_type": "markdown",
   "metadata": {}
  },
  {
   "cell_type": "code",
   "execution_count": 11,
   "metadata": {},
   "outputs": [
    {
     "output_type": "stream",
     "name": "stdout",
     "text": [
      "+---------+-----------+\n|     Name|sum(salary)|\n+---------+-----------+\n|Sudhanshu|      35000|\n|    Sunny|      12000|\n|    Krish|      19000|\n|   Mahesh|       7000|\n+---------+-----------+\n\n"
     ]
    }
   ],
   "source": [
    "df_pyspark.groupby(\"Name\").sum().show()"
   ]
  },
  {
   "source": [
    "Groupby to find the maximun salary"
   ],
   "cell_type": "markdown",
   "metadata": {}
  },
  {
   "cell_type": "code",
   "execution_count": 18,
   "metadata": {},
   "outputs": [
    {
     "output_type": "stream",
     "name": "stdout",
     "text": [
      "+---------+-----------+\n|     Name|max(salary)|\n+---------+-----------+\n|Sudhanshu|      20000|\n|    Sunny|      10000|\n|    Krish|      10000|\n|   Mahesh|       4000|\n+---------+-----------+\n\n"
     ]
    }
   ],
   "source": [
    "df_pyspark.groupby(\"Name\").max().show()"
   ]
  },
  {
   "source": [
    "Groupby Departments wich gives maximun salary"
   ],
   "cell_type": "markdown",
   "metadata": {}
  },
  {
   "cell_type": "code",
   "execution_count": 12,
   "metadata": {},
   "outputs": [
    {
     "output_type": "stream",
     "name": "stdout",
     "text": [
      "+------------+-----------+\n| Departments|sum(salary)|\n+------------+-----------+\n|         IOT|      15000|\n|    Big Data|      15000|\n|Data Science|      43000|\n+------------+-----------+\n\n"
     ]
    }
   ],
   "source": [
    "df_pyspark.groupby(\"Departments\").sum().show()"
   ]
  },
  {
   "cell_type": "code",
   "execution_count": 14,
   "metadata": {},
   "outputs": [
    {
     "output_type": "stream",
     "name": "stdout",
     "text": [
      "+------------+-----------+\n| Departments|avg(salary)|\n+------------+-----------+\n|         IOT|     7500.0|\n|    Big Data|     3750.0|\n|Data Science|    10750.0|\n+------------+-----------+\n\n"
     ]
    }
   ],
   "source": [
    "df_pyspark.groupby(\"Departments\").mean().show()"
   ]
  },
  {
   "cell_type": "code",
   "execution_count": 15,
   "metadata": {},
   "outputs": [
    {
     "output_type": "stream",
     "name": "stdout",
     "text": [
      "+------------+-----+\n| Departments|count|\n+------------+-----+\n|         IOT|    2|\n|    Big Data|    4|\n|Data Science|    4|\n+------------+-----+\n\n"
     ]
    }
   ],
   "source": [
    "df_pyspark.groupby(\"Departments\").count().show()"
   ]
  },
  {
   "cell_type": "code",
   "execution_count": 20,
   "metadata": {},
   "outputs": [
    {
     "output_type": "stream",
     "name": "stdout",
     "text": [
      "+-----------+\n|sum(Salary)|\n+-----------+\n|      73000|\n+-----------+\n\n"
     ]
    }
   ],
   "source": [
    "df_pyspark.agg({\"Salary\":\"sum\"}).show()"
   ]
  },
  {
   "cell_type": "code",
   "execution_count": null,
   "metadata": {},
   "outputs": [],
   "source": []
  }
 ]
}